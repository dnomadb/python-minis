{
 "metadata": {
  "name": ""
 },
 "nbformat": 3,
 "nbformat_minor": 0,
 "worksheets": [
  {
   "cells": [
    {
     "cell_type": "code",
     "collapsed": false,
     "input": [
      "import requests, json, fiona\n",
      "from shapely.geometry import MultiPoint"
     ],
     "language": "python",
     "metadata": {},
     "outputs": [],
     "prompt_number": 42
    },
    {
     "cell_type": "code",
     "collapsed": false,
     "input": [
      "url = 'http://developer.nrel.gov/api/alt-fuel-stations/v1.json?api_key=bfXaBofhGpI99K74FdlpuUfF7ifpin89Be0TrxXb&fuel_type=ELEC'\n",
      "query = requests.get(url)\n",
      "js = query.json()\n",
      "stations = [(i['longitude'],i['latitude']) for i in js['fuel_stations']]\n",
      "mpoints = MultiPoint(stations)\n",
      "from shapely.geometry import Point, mapping\n",
      "schema = { 'geometry': 'Point', 'properties': { 'name': 'str' } }"
     ],
     "language": "python",
     "metadata": {},
     "outputs": [],
     "prompt_number": 51
    },
    {
     "cell_type": "code",
     "collapsed": false,
     "input": [
      "with fiona.collection(\"stationsWM.shp\", \"w\", \"ESRI Shapefile\", schema, crs=from_epsg(3857)) as outshp:\n",
      "    for i in range(len(stations)):\n",
      "        stationsWM = latlngToXY(stations[i])\n",
      "        point = Point(stationsWM)\n",
      "        outshp.write({'geometry': mapping(point),'properties': {'name': i}});"
     ],
     "language": "python",
     "metadata": {},
     "outputs": [],
     "prompt_number": 70
    },
    {
     "cell_type": "code",
     "collapsed": false,
     "input": [
      "def latlngToXY(ll):\n",
      "    import math\n",
      "    MAXEXTENT = 20037508.34\n",
      "    D2R = math.pi / 180\n",
      "    A = 6378137\n",
      "    x = (A * ll[0] * D2R)\n",
      "    y = (A * math.log(math.tan((math.pi*0.25) + (0.5 * ll[1] * D2R))))\n",
      "    return x,y"
     ],
     "language": "python",
     "metadata": {},
     "outputs": [],
     "prompt_number": 69
    },
    {
     "cell_type": "code",
     "collapsed": false,
     "input": [
      "print latlngToXY([-122,37])"
     ],
     "language": "python",
     "metadata": {},
     "outputs": [
      {
       "output_type": "stream",
       "stream": "stdout",
       "text": [
        "(-13580977.876779376, 4439106.787250583)\n"
       ]
      }
     ],
     "prompt_number": 63
    },
    {
     "cell_type": "code",
     "collapsed": false,
     "input": [],
     "language": "python",
     "metadata": {},
     "outputs": []
    }
   ],
   "metadata": {}
  }
 ]
}